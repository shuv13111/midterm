{
 "cells": [
  {
   "attachments": {},
   "cell_type": "markdown",
   "metadata": {},
   "source": [
    "# Mid Term Exam \n",
    "\n",
    "## Shuvrangshu Mukhopadhyay\n",
    "\n",
    "### Chat Extension Cassandra Database"
   ]
  },
  {
   "attachments": {},
   "cell_type": "markdown",
   "metadata": {},
   "source": [
    "#### Installing required packages for running the python script"
   ]
  },
  {
   "cell_type": "code",
   "execution_count": null,
   "metadata": {},
   "outputs": [],
   "source": [
    "pip install pandas\n",
    "pip install cassandra-driver"
   ]
  },
  {
   "attachments": {},
   "cell_type": "markdown",
   "metadata": {},
   "source": [
    "#### Importing the necessary packages"
   ]
  },
  {
   "cell_type": "code",
   "execution_count": 5,
   "metadata": {},
   "outputs": [
    {
     "name": "stdout",
     "output_type": "stream",
     "text": [
      "Defaulting to user installation because normal site-packages is not writeable\n",
      "Collecting cassandra-driver\n",
      "  Using cached cassandra_driver-3.28.0-cp310-cp310-manylinux_2_17_x86_64.manylinux2014_x86_64.whl (19.1 MB)\n",
      "Collecting geomet<0.3,>=0.1\n",
      "  Using cached geomet-0.2.1.post1-py3-none-any.whl (18 kB)\n",
      "Requirement already satisfied: six>=1.9 in /usr/lib/python3/dist-packages (from cassandra-driver) (1.16.0)\n",
      "Requirement already satisfied: click in /usr/lib/python3/dist-packages (from geomet<0.3,>=0.1->cassandra-driver) (8.0.3)\n",
      "Installing collected packages: geomet, cassandra-driver\n",
      "Successfully installed cassandra-driver-3.28.0 geomet-0.2.1.post1\n",
      "Note: you may need to restart the kernel to use updated packages.\n"
     ]
    }
   ],
   "source": [
    "import pandas as pd\n",
    "from cassandra.cluster import Cluster"
   ]
  },
  {
   "attachments": {},
   "cell_type": "markdown",
   "metadata": {},
   "source": [
    "### Creating a connection to the cassandra cluster which we have started in the terminal using 'Docker-Compose up'"
   ]
  },
  {
   "cell_type": "code",
   "execution_count": 7,
   "metadata": {},
   "outputs": [],
   "source": [
    "clstr = Cluster()\n",
    "session = clstr.connect()"
   ]
  },
  {
   "attachments": {},
   "cell_type": "markdown",
   "metadata": {},
   "source": [
    "### We would want to create a schema, which is also known as the keyspace in Cassandra, but first check if we have the already or not?"
   ]
  },
  {
   "cell_type": "code",
   "execution_count": 77,
   "metadata": {},
   "outputs": [
    {
     "data": {
      "text/plain": [
       "<cassandra.cluster.ResultSet at 0x7f9c5c2be710>"
      ]
     },
     "execution_count": 77,
     "metadata": {},
     "output_type": "execute_result"
    }
   ],
   "source": [
    "session.execute(\"DROP KEYSPACE IF EXISTS chatdata\")    # Checking and dropping chatData keyspace if exists"
   ]
  },
  {
   "attachments": {},
   "cell_type": "markdown",
   "metadata": {},
   "source": [
    "#### It does not exist, let create our own keyspace. We will create a keyspace with replication factor 3 and name as chatdata. Since we are trying to store chat data, we would want to create chat data"
   ]
  },
  {
   "cell_type": "code",
   "execution_count": 78,
   "metadata": {},
   "outputs": [
    {
     "data": {
      "text/plain": [
       "<cassandra.cluster.ResultSet at 0x7f9c0ffa07f0>"
      ]
     },
     "execution_count": 78,
     "metadata": {},
     "output_type": "execute_result"
    }
   ],
   "source": [
    "# Keeping replication factor as 3, as it must not exceed more than the number of nodes present (We have 3 here)\n",
    "session.execute(\"\"\"\n",
    "    CREATE KEYSPACE IF NOT EXISTS chatData WITH REPLICATION = {\n",
    "        'class':'SimpleStrategy', \n",
    "        'replication_factor':3                                               \n",
    "    }\n",
    "\"\"\")"
   ]
  },
  {
   "attachments": {},
   "cell_type": "markdown",
   "metadata": {},
   "source": [
    "#### Let's see if we the keyspace created or not?"
   ]
  },
  {
   "cell_type": "code",
   "execution_count": 79,
   "metadata": {},
   "outputs": [
    {
     "name": "stdout",
     "output_type": "stream",
     "text": [
      "chatdata\n",
      "system\n",
      "system_auth\n",
      "system_distributed\n",
      "system_schema\n",
      "system_traces\n",
      "system_views\n",
      "system_virtual_schema\n"
     ]
    }
   ],
   "source": [
    "rows = session.execute(\"desc keyspaces\")\n",
    "for row in rows:\n",
    "    print(f\"{row[0]}\")"
   ]
  },
  {
   "cell_type": "code",
   "execution_count": 80,
   "metadata": {},
   "outputs": [
    {
     "data": {
      "text/plain": [
       "<cassandra.cluster.ResultSet at 0x7f9c0ee46fb0>"
      ]
     },
     "execution_count": 80,
     "metadata": {},
     "output_type": "execute_result"
    }
   ],
   "source": [
    "session.execute(\"desc keyspaces\")"
   ]
  },
  {
   "attachments": {},
   "cell_type": "markdown",
   "metadata": {},
   "source": [
    "#### We can see our keyspace created.\n",
    "\n",
    "## Now in the below cell, we will create our table with 4 columns. Since user-id would be unique to each users, it is a good choice for our primary key."
   ]
  },
  {
   "cell_type": "code",
   "execution_count": 81,
   "metadata": {},
   "outputs": [
    {
     "data": {
      "text/plain": [
       "<cassandra.cluster.ResultSet at 0x7f9c5c0f5b10>"
      ]
     },
     "execution_count": 81,
     "metadata": {},
     "output_type": "execute_result"
    }
   ],
   "source": [
    "session.execute(\"\"\"\n",
    "CREATE TABLE IF NOT EXISTS chatdata.chatsession ( \n",
    "    user_id INT, \n",
    "    chatdate TEXT, \n",
    "    file_type TEXT, \n",
    "    file TEXT,\n",
    "    PRIMARY KEY(user_id)\n",
    ");\n",
    "\"\"\")"
   ]
  },
  {
   "cell_type": "code",
   "execution_count": 90,
   "metadata": {},
   "outputs": [],
   "source": [
    "testfile = pd.read_csv('testfile.csv')"
   ]
  },
  {
   "cell_type": "code",
   "execution_count": 91,
   "metadata": {},
   "outputs": [
    {
     "data": {
      "text/html": [
       "<div>\n",
       "<style scoped>\n",
       "    .dataframe tbody tr th:only-of-type {\n",
       "        vertical-align: middle;\n",
       "    }\n",
       "\n",
       "    .dataframe tbody tr th {\n",
       "        vertical-align: top;\n",
       "    }\n",
       "\n",
       "    .dataframe thead th {\n",
       "        text-align: right;\n",
       "    }\n",
       "</style>\n",
       "<table border=\"1\" class=\"dataframe\">\n",
       "  <thead>\n",
       "    <tr style=\"text-align: right;\">\n",
       "      <th></th>\n",
       "      <th>user_id</th>\n",
       "      <th>chat_date</th>\n",
       "      <th>file</th>\n",
       "      <th>file_type</th>\n",
       "    </tr>\n",
       "  </thead>\n",
       "  <tbody>\n",
       "    <tr>\n",
       "      <th>0</th>\n",
       "      <td>101</td>\n",
       "      <td>'10/04/2023'</td>\n",
       "      <td>'This is a random file for testing purpose'</td>\n",
       "      <td>'File'</td>\n",
       "    </tr>\n",
       "  </tbody>\n",
       "</table>\n",
       "</div>"
      ],
      "text/plain": [
       "   user_id     chat_date                                         file  \\\n",
       "0      101  '10/04/2023'  'This is a random file for testing purpose'   \n",
       "\n",
       "  file_type  \n",
       "0    'File'  "
      ]
     },
     "execution_count": 91,
     "metadata": {},
     "output_type": "execute_result"
    }
   ],
   "source": [
    "testfile"
   ]
  },
  {
   "attachments": {},
   "cell_type": "markdown",
   "metadata": {},
   "source": [
    "### Below code is pushing 1 record to the thable which we created in the previous steps"
   ]
  },
  {
   "cell_type": "code",
   "execution_count": 92,
   "metadata": {},
   "outputs": [
    {
     "name": "stdout",
     "output_type": "stream",
     "text": [
      "\n",
      "        INSERT INTO chatdata.chatsession (user_id, chatdate, file, file_type)     \n",
      "        VALUES (101,'10/04/2023', 'This is a random file for testing purpose', 'File');\n",
      "        \n"
     ]
    }
   ],
   "source": [
    "for index, row in testfile.iterrows():\n",
    "    print(f\"\"\"\n",
    "        INSERT INTO chatdata.chatsession (user_id, chatdate, file, file_type)     \n",
    "        VALUES ({row.user_id},{row.chat_date}, {row.file}, {row.file_type});\n",
    "        \"\"\")\n",
    "    session.execute(f\"\"\"\n",
    "        INSERT INTO chatdata.chatsession (user_id, chatdate, file, file_type)     \n",
    "        VALUES ({row.user_id},{row.chat_date}, {row.file}, {row.file_type});\n",
    "        \"\"\")"
   ]
  },
  {
   "attachments": {},
   "cell_type": "markdown",
   "metadata": {},
   "source": [
    "### Below is another way to insert records based on a text file:"
   ]
  },
  {
   "cell_type": "code",
   "execution_count": 93,
   "metadata": {},
   "outputs": [],
   "source": [
    "with open('testfile.txt', 'r') as inp:\n",
    "    temp = inp.read()"
   ]
  },
  {
   "cell_type": "code",
   "execution_count": 94,
   "metadata": {},
   "outputs": [
    {
     "data": {
      "text/plain": [
       "'This is another way of recording text and we will use this to store the date'"
      ]
     },
     "execution_count": 94,
     "metadata": {},
     "output_type": "execute_result"
    }
   ],
   "source": [
    "temp"
   ]
  },
  {
   "cell_type": "code",
   "execution_count": 95,
   "metadata": {},
   "outputs": [
    {
     "ename": "SyntaxException",
     "evalue": "<Error from server: code=2000 [Syntax error in CQL query] message=\"line 3:30 no viable alternative at input ',' (...file,file_type)             VALUES (101,[\"1005202]3\",...)\">",
     "output_type": "error",
     "traceback": [
      "\u001b[0;31m---------------------------------------------------------------------------\u001b[0m",
      "\u001b[0;31mSyntaxException\u001b[0m                           Traceback (most recent call last)",
      "Cell \u001b[0;32mIn[95], line 1\u001b[0m\n\u001b[0;32m----> 1\u001b[0m session\u001b[39m.\u001b[39;49mexecute(\u001b[39mf\u001b[39;49m\u001b[39m\"\"\"\u001b[39;49m\n\u001b[1;32m      2\u001b[0m \u001b[39m        INSERT INTO chatdata.chatsession (user_id,chatdate,file,file_type)     \u001b[39;49m\n\u001b[1;32m      3\u001b[0m \u001b[39m        VALUES (101,\u001b[39;49m\u001b[39m\"\u001b[39;49m\u001b[39m10052023\u001b[39;49m\u001b[39m\"\u001b[39;49m\u001b[39m,\u001b[39;49m\u001b[39m{\u001b[39;49;00mtemp\u001b[39m}\u001b[39;49;00m\u001b[39m,\u001b[39;49m\u001b[39m\"\u001b[39;49m\u001b[39mFile\u001b[39;49m\u001b[39m\"\u001b[39;49m\u001b[39m);\u001b[39;49m\n\u001b[1;32m      4\u001b[0m \u001b[39m        \u001b[39;49m\u001b[39m\"\"\"\u001b[39;49m)\n\u001b[1;32m      7\u001b[0m \u001b[39m## For some reason this way is not working, however, the csql table has 2 records for now\u001b[39;00m\n",
      "File \u001b[0;32m~/.local/lib/python3.10/site-packages/cassandra/cluster.py:2637\u001b[0m, in \u001b[0;36mcassandra.cluster.Session.execute\u001b[0;34m()\u001b[0m\n",
      "File \u001b[0;32m~/.local/lib/python3.10/site-packages/cassandra/cluster.py:4920\u001b[0m, in \u001b[0;36mcassandra.cluster.ResponseFuture.result\u001b[0;34m()\u001b[0m\n",
      "\u001b[0;31mSyntaxException\u001b[0m: <Error from server: code=2000 [Syntax error in CQL query] message=\"line 3:30 no viable alternative at input ',' (...file,file_type)             VALUES (101,[\"1005202]3\",...)\">"
     ]
    }
   ],
   "source": [
    "session.execute(f\"\"\"\n",
    "        INSERT INTO chatdata.chatsession (user_id,chatdate,file,file_type)     \n",
    "        VALUES (101,\"10052023\",{temp},\"File\");\n",
    "        \"\"\")\n",
    "\n",
    "\n",
    "## For some reason this way is not working, however, the csql table has 2 records for now"
   ]
  },
  {
   "attachments": {},
   "cell_type": "markdown",
   "metadata": {},
   "source": [
    "### Below snippet of the code can be utilised to add more records to the existing table:"
   ]
  },
  {
   "cell_type": "code",
   "execution_count": 96,
   "metadata": {},
   "outputs": [
    {
     "data": {
      "text/plain": [
       "<cassandra.cluster.ResultSet at 0x7f9c5c1be200>"
      ]
     },
     "execution_count": 96,
     "metadata": {},
     "output_type": "execute_result"
    }
   ],
   "source": [
    "session.execute(f\"\"\"\n",
    "        INSERT INTO chatdata.chatsession (user_id, chatdate, file, file_type)     \n",
    "        VALUES (102,'10/05/2023','Text used in the attachment file','File');\n",
    "        \"\"\")"
   ]
  },
  {
   "attachments": {},
   "cell_type": "markdown",
   "metadata": {},
   "source": [
    "### Below snippet of the code can be used for searching a record based on any parameter, I am using user_id here"
   ]
  },
  {
   "cell_type": "code",
   "execution_count": 97,
   "metadata": {},
   "outputs": [
    {
     "name": "stdout",
     "output_type": "stream",
     "text": [
      "Row(user_id=101, chatdate='10/04/2023', file='This is a random file for testing purpose', file_type='File')\n"
     ]
    }
   ],
   "source": [
    "result = session.execute(f\"\"\"\n",
    "        SELECT * FROM chatdata.chatsession WHERE user_id = 101;\n",
    "        \"\"\")\n",
    "\n",
    "for items in result:\n",
    "    print(items)"
   ]
  },
  {
   "attachments": {},
   "cell_type": "markdown",
   "metadata": {},
   "source": [
    "### Below snippet of the code can be used to delete a record based on any parameter, I am using user_id here"
   ]
  },
  {
   "cell_type": "code",
   "execution_count": 98,
   "metadata": {},
   "outputs": [
    {
     "data": {
      "text/plain": [
       "<cassandra.cluster.ResultSet at 0x7f9c0ca9b370>"
      ]
     },
     "execution_count": 98,
     "metadata": {},
     "output_type": "execute_result"
    }
   ],
   "source": [
    "session.execute(\"\"\"\n",
    "        DELETE FROM chatdata.chatsession WHERE user_id = 102;\n",
    "        \"\"\")\n",
    "\n"
   ]
  },
  {
   "cell_type": "code",
   "execution_count": 99,
   "metadata": {},
   "outputs": [
    {
     "name": "stdout",
     "output_type": "stream",
     "text": [
      "Row(user_id=101, chatdate='10/04/2023', file='This is a random file for testing purpose', file_type='File')\n"
     ]
    }
   ],
   "source": [
    "after_delete = session.execute('''SELECT * FROM chatdata.chatsession''')\n",
    "\n",
    "for items in after_delete:\n",
    "    print(items)"
   ]
  },
  {
   "attachments": {},
   "cell_type": "markdown",
   "metadata": {},
   "source": [
    "### We can see in the top output that user_id 102' record has been deleted"
   ]
  }
 ],
 "metadata": {
  "kernelspec": {
   "display_name": "Python 3",
   "language": "python",
   "name": "python3"
  },
  "language_info": {
   "codemirror_mode": {
    "name": "ipython",
    "version": 3
   },
   "file_extension": ".py",
   "mimetype": "text/x-python",
   "name": "python",
   "nbconvert_exporter": "python",
   "pygments_lexer": "ipython3",
   "version": "3.10.6"
  },
  "orig_nbformat": 4
 },
 "nbformat": 4,
 "nbformat_minor": 2
}
